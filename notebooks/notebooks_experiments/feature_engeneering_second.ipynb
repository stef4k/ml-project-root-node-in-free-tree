{
 "cells": [
  {
   "cell_type": "code",
   "execution_count": 1,
   "id": "5f534ebd",
   "metadata": {
    "vscode": {
     "languageId": "shellscript"
    }
   },
   "outputs": [],
   "source": [
    "import pandas as pd\n",
    "import networkx as nx\n",
    "import ast\n",
    "from math import log"
   ]
  },
  {
   "cell_type": "code",
   "execution_count": 2,
   "id": "5238cacf-8268-4608-9f7c-f6887f52aad5",
   "metadata": {},
   "outputs": [],
   "source": [
    "df = pd.read_csv('../../data/expanded_train_with_leaf.csv')"
   ]
  },
  {
   "cell_type": "code",
   "execution_count": 3,
   "id": "1db34fae-619c-4de3-8b01-7b0986756f1a",
   "metadata": {},
   "outputs": [],
   "source": [
    "df['pos_norm'] = df['vertex'] / df['n']"
   ]
  },
  {
   "cell_type": "code",
   "execution_count": 4,
   "id": "dc12b401-7549-4203-a9e0-7e3427a8cc13",
   "metadata": {},
   "outputs": [],
   "source": [
    "raw = pd.read_csv('../../data/train.csv')\n",
    "raw['edgelist'] = raw['edgelist'].apply(ast.literal_eval)"
   ]
  },
  {
   "cell_type": "code",
   "execution_count": 5,
   "id": "978b958e-0d8c-4a43-9f77-bede230b799f",
   "metadata": {},
   "outputs": [],
   "source": [
    "df = df.merge(\n",
    "    raw[['language','sentence','edgelist']],\n",
    "    on=['language','sentence'],\n",
    "    how='left'\n",
    ")"
   ]
  },
  {
   "cell_type": "code",
   "execution_count": 6,
   "id": "bac3cefd-a474-44ce-a006-8e792e4ab383",
   "metadata": {},
   "outputs": [],
   "source": [
    "# Compute max_branch_size & subtree_entropy per node\n",
    "def balance_features(group):\n",
    "    edges = group['edgelist'].iloc[0]\n",
    "    T = nx.Graph(edges)\n",
    "    n = T.number_of_nodes()\n",
    "    records = []\n",
    "    for v in T.nodes():\n",
    "        sizes = []\n",
    "        for nbr in T[v]:\n",
    "            # remove edge and find component containing nbr\n",
    "            T2 = T.copy()\n",
    "            T2.remove_edge(v, nbr)\n",
    "            for comp in nx.connected_components(T2):\n",
    "                if nbr in comp:\n",
    "                    sizes.append(len(comp))\n",
    "                    break\n",
    "        max_branch = max(sizes) if sizes else 0\n",
    "        ent = 0.0\n",
    "        for s in sizes:\n",
    "            p = s / n\n",
    "            ent -= p * log(p, 2) if p>0 else 0.0\n",
    "        records.append((v, max_branch, ent))\n",
    "    return pd.DataFrame(records, columns=['vertex','max_branch_size','subtree_entropy'])"
   ]
  },
  {
   "cell_type": "code",
   "execution_count": 7,
   "id": "346f6ddb-2e25-4fb3-9c2d-002755cb5d42",
   "metadata": {},
   "outputs": [
    {
     "name": "stderr",
     "output_type": "stream",
     "text": [
      "C:\\Users\\Kristof\\AppData\\Local\\Temp\\ipykernel_12264\\810987614.py:4: DeprecationWarning: DataFrameGroupBy.apply operated on the grouping columns. This behavior is deprecated, and in a future version of pandas the grouping columns will be excluded from the operation. Either pass `include_groups=False` to exclude the groupings or explicitly select the grouping columns after groupby to silence this warning.\n",
      "  .apply(balance_features)\n"
     ]
    }
   ],
   "source": [
    "# apply per (language, sentence)\n",
    "bal = (\n",
    "    df.groupby(['language','sentence'], group_keys=False)\n",
    "      .apply(balance_features)\n",
    "      .reset_index(drop=True)\n",
    ")"
   ]
  },
  {
   "cell_type": "code",
   "execution_count": 8,
   "id": "1dd27b29-0f05-4d7d-9c43-ccfd79d02fbf",
   "metadata": {},
   "outputs": [],
   "source": [
    "# concat\n",
    "df = pd.concat([df.reset_index(drop=True), bal], axis=1)"
   ]
  },
  {
   "cell_type": "code",
   "execution_count": 9,
   "id": "a12577eb-a26a-429f-a5af-cbbf103851a7",
   "metadata": {},
   "outputs": [],
   "source": [
    "export_cols = [\n",
    "    'language','sentence','vertex','n',\n",
    "    'degree','closeness','harmonic','betweeness','load','pagerank',\n",
    "    'eigenvector','katz','information','current_flow_betweeness',\n",
    "    'percolation','second_order','laplacian',\n",
    "    'is_leaf','pos_norm','max_branch_size','subtree_entropy',\n",
    "    'is_root'\n",
    "]"
   ]
  },
  {
   "cell_type": "code",
   "execution_count": 10,
   "id": "3cd1c303-68d6-454e-b056-4688666f44ef",
   "metadata": {},
   "outputs": [
    {
     "name": "stdout",
     "output_type": "stream",
     "text": [
      "Exported features\n"
     ]
    }
   ],
   "source": [
    "df[export_cols].to_csv('../../data/expanded_with_features_non-linear.csv', index=False)\n",
    "print(\"Exported features\")"
   ]
  }
 ],
 "metadata": {
  "kernelspec": {
   "display_name": "Python ML-project(myenv)",
   "language": "python",
   "name": "myenv"
  },
  "language_info": {
   "codemirror_mode": {
    "name": "ipython",
    "version": 3
   },
   "file_extension": ".py",
   "mimetype": "text/x-python",
   "name": "python",
   "nbconvert_exporter": "python",
   "pygments_lexer": "ipython3",
   "version": "3.12.5"
  }
 },
 "nbformat": 4,
 "nbformat_minor": 5
}
