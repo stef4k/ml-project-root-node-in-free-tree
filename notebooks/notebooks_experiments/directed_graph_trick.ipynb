{
 "cells": [
  {
   "cell_type": "markdown",
   "id": "cf844ee9-c282-4579-9269-188ed3503505",
   "metadata": {},
   "source": [
    "# Directed Graph Trick (not submitted)\n",
    "\n",
    "Very basic trick: treat the edgelist as a set of directed arcs and pick the node with in-degree 0.\\\n",
    "We will not submit this notebook to not skew the results on Kaggle!\n",
    "\n",
    "Explanation: every non-root word has exactly one incoming arc (its head), and the root has none. So just picking the node with in‐degree 0 gets the  root with 100% accuracy (even on held-out data as it is in this notebook)."
   ]
  },
  {
   "cell_type": "code",
   "execution_count": 22,
   "id": "a4410bbc",
   "metadata": {
    "vscode": {
     "languageId": "shellscript"
    }
   },
   "outputs": [],
   "source": [
    "import pandas as pd\n",
    "import ast\n",
    "import networkx as nx\n",
    "from sklearn.model_selection import GroupShuffleSplit"
   ]
  },
  {
   "cell_type": "code",
   "execution_count": 23,
   "id": "91d9e610-ab76-4537-a88a-36f16596ad1f",
   "metadata": {},
   "outputs": [],
   "source": [
    "df = pd.read_csv('../../data/train.csv')"
   ]
  },
  {
   "cell_type": "code",
   "execution_count": 24,
   "id": "ed310729-9720-492d-b23b-bedb9f39f41a",
   "metadata": {},
   "outputs": [],
   "source": [
    "# split by sentence to get a train/val hold-out\n",
    "gss = GroupShuffleSplit(n_splits=1, test_size=0.2, random_state=42)\n",
    "train_idx, val_idx = next(gss.split(df, groups=df['sentence']))\n",
    "train_df, val_df = df.iloc[train_idx], df.iloc[val_idx]"
   ]
  },
  {
   "cell_type": "code",
   "execution_count": 25,
   "id": "c8526cbe-cbda-44e8-89e9-f10cefd9e5a5",
   "metadata": {},
   "outputs": [],
   "source": [
    "# “in-degree 0” root predictor\n",
    "def predict_root(edgelist_str):\n",
    "    edges = ast.literal_eval(edgelist_str)\n",
    "    G = nx.DiGraph()\n",
    "    G.add_edges_from(edges)\n",
    "    # THE unique node with no incoming arcs\n",
    "    for n, d in G.in_degree():\n",
    "        if d == 0:\n",
    "            return n\n",
    "    return None"
   ]
  },
  {
   "cell_type": "code",
   "execution_count": 26,
   "id": "b91c31b2-a62b-48a0-a43e-404f9cb80698",
   "metadata": {},
   "outputs": [
    {
     "name": "stdout",
     "output_type": "stream",
     "text": [
      "TRAIN accuracy (in-degree=0 heuristic): 1.0000\n",
      "VAL accuracy (in-degree=0 heuristic): 1.0000\n"
     ]
    }
   ],
   "source": [
    "# evaluate on TRAIN and VAL\n",
    "for name, part in ((\"TRAIN\", train_df), (\"VAL\", val_df)):\n",
    "    preds = part['edgelist'].apply(predict_root)\n",
    "    acc = (preds == part['root']).mean()\n",
    "    print(f\"{name} accuracy (in-degree=0 heuristic): {acc:.4f}\")"
   ]
  }
 ],
 "metadata": {
  "kernelspec": {
   "display_name": "Python ML-project(myenv)",
   "language": "python",
   "name": "myenv"
  },
  "language_info": {
   "codemirror_mode": {
    "name": "ipython",
    "version": 3
   },
   "file_extension": ".py",
   "mimetype": "text/x-python",
   "name": "python",
   "nbconvert_exporter": "python",
   "pygments_lexer": "ipython3",
   "version": "3.12.5"
  }
 },
 "nbformat": 4,
 "nbformat_minor": 5
}
