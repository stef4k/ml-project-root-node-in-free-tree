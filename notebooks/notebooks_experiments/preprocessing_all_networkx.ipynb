{
 "cells": [
  {
   "cell_type": "markdown",
   "id": "14f4ba1a-7656-4cf9-aec8-bd34c10cbc3b",
   "metadata": {},
   "source": [
    "# Preprocessing with more NetworkX features\n",
    "\n",
    "This experiment includes data from most NetworkX features. This data was tested in our main linear and non-linear models as well as in some of the experimental models, but it did not lead to a significant improvement as the preseleced ones in preprocessing led to the best separability. Thus, only the data generation part remains from this experiment."
   ]
  },
  {
   "cell_type": "code",
   "execution_count": 10,
   "id": "7bdf7670",
   "metadata": {
    "vscode": {
     "languageId": "plaintext"
    }
   },
   "outputs": [],
   "source": [
    "import pandas as pd\n",
    "import ast\n",
    "import networkx as nx\n",
    "from tqdm import tqdm"
   ]
  },
  {
   "cell_type": "code",
   "execution_count": 11,
   "id": "6911e2fe-4370-4ec6-8804-b2e32a609517",
   "metadata": {},
   "outputs": [],
   "source": [
    "\n",
    "def centralities(edgelist):\n",
    "    \"\"\"\n",
    "    Given an undirected edge‐list, build a NetworkX graph and return\n",
    "    a dict mapping node -> dict of all node‐level centralities & local metrics.\n",
    "    \"\"\"\n",
    "    G = nx.from_edgelist(edgelist)\n",
    "    # Core centralities\n",
    "    deg      = nx.degree_centrality(G)\n",
    "    clo      = nx.closeness_centrality(G)\n",
    "    cflow_clo= nx.current_flow_closeness_centrality(G)\n",
    "    harm     = nx.harmonic_centrality(G)\n",
    "    bet      = nx.betweenness_centrality(G, seed=1)\n",
    "    comm_bet = nx.communicability_betweenness_centrality(G)\n",
    "    cfbet    = nx.current_flow_betweenness_centrality(G)\n",
    "    load     = nx.load_centrality(G)\n",
    "    pr       = nx.pagerank(G)\n",
    "    eig      = nx.eigenvector_centrality_numpy(G)\n",
    "    katz     = nx.katz_centrality_numpy(G)\n",
    "    info     = nx.information_centrality(G)\n",
    "    subg     = nx.subgraph_centrality(G)\n",
    "    perco    = nx.percolation_centrality(G)\n",
    "    so       = nx.second_order_centrality(G)\n",
    "    lapl     = nx.laplacian_centrality(G)\n",
    "\n",
    "    # Local clustering / core / triangle metrics\n",
    "    clust    = nx.clustering(G)\n",
    "    sq_clust = nx.square_clustering(G)\n",
    "    tri      = nx.triangles(G)\n",
    "    core     = nx.core_number(G)\n",
    "    ecc      = nx.eccentricity(G)\n",
    "\n",
    "    feats = {}\n",
    "    for v in G:\n",
    "        feats[v] = {\n",
    "            'degree_centrality':             deg[v],\n",
    "            'closeness_centrality':          clo[v],\n",
    "            'current_flow_closeness':        cflow_clo[v],\n",
    "            'harmonic_centrality':           harm[v],\n",
    "            'betweenness_centrality':        bet[v],\n",
    "            'communicability_betweenness':   comm_bet[v],\n",
    "            'current_flow_betweenness':      cfbet[v],\n",
    "            'load_centrality':               load[v],\n",
    "            'pagerank':                      pr[v],\n",
    "            'eigenvector_centrality':        eig[v],\n",
    "            'katz_centrality':               katz[v],\n",
    "            'information_centrality':        info[v],\n",
    "            'subgraph_centrality':           subg[v],\n",
    "            'percolation_centrality':        perco[v],\n",
    "            'second_order_centrality':       so[v],\n",
    "            'laplacian_centrality':          lapl[v],\n",
    "            'clustering_coefficient':        clust[v],\n",
    "            'square_clustering':             sq_clust[v],\n",
    "            'triangles':                     tri[v],\n",
    "            'core_number':                   core[v],\n",
    "            'eccentricity':                  ecc[v],\n",
    "        }\n",
    "    return feats"
   ]
  },
  {
   "cell_type": "code",
   "execution_count": 12,
   "id": "1798c8cb-0717-42cb-b7d3-8a1b910271b9",
   "metadata": {},
   "outputs": [],
   "source": [
    "train_df = pd.read_csv('../../data/train.csv')\n",
    "train_df['edgelist'] = train_df['edgelist'].apply(ast.literal_eval)"
   ]
  },
  {
   "cell_type": "code",
   "execution_count": 13,
   "id": "8d817968-c435-434e-a9f1-e94755031671",
   "metadata": {},
   "outputs": [
    {
     "name": "stderr",
     "output_type": "stream",
     "text": [
      "Expanding train: 100%|█████████████████████████████████████████████████████████████████████████████████████████████████| 10500/10500 [06:31<00:00, 26.81it/s]\n"
     ]
    }
   ],
   "source": [
    "rows = []\n",
    "for _, r in tqdm(train_df.iterrows(), total=len(train_df), desc=\"Expanding train\"):\n",
    "    edgels = r['edgelist']\n",
    "    root   = r['root']\n",
    "    cents  = centralities(edgels)\n",
    "    for v, feats in cents.items():\n",
    "        row = {\n",
    "            'id':         r['id'],\n",
    "            'language':   r['language'],\n",
    "            'sentence':   r['sentence'],\n",
    "            'n':          r['n'],\n",
    "            'vertex':     v,\n",
    "            **feats,\n",
    "            'is_root':    int(v == root)\n",
    "        }\n",
    "        rows.append(row)"
   ]
  },
  {
   "cell_type": "code",
   "execution_count": 16,
   "id": "a408e2d6-dfb2-4d01-8a79-398539ea67c4",
   "metadata": {},
   "outputs": [],
   "source": [
    "expanded_train = pd.DataFrame(rows)\n",
    "expanded_train.to_csv('../../data/expanded_train_all_feats.csv', index=False)"
   ]
  },
  {
   "cell_type": "code",
   "execution_count": 25,
   "id": "321b66f8-5866-4c93-b7b7-d265fbdfccb5",
   "metadata": {},
   "outputs": [],
   "source": [
    "test_df = pd.read_csv('../../data/test.csv')\n",
    "test_df['edgelist'] = test_df['edgelist'].apply(ast.literal_eval)"
   ]
  },
  {
   "cell_type": "code",
   "execution_count": 26,
   "id": "f5bc9978-59c9-4f44-9348-32b726ebe41f",
   "metadata": {},
   "outputs": [
    {
     "name": "stderr",
     "output_type": "stream",
     "text": [
      "Expanding test: 100%|██████████████████████████████████████████████████████████████████████████████████████████████████| 10395/10395 [26:35<00:00,  6.52it/s]\n"
     ]
    }
   ],
   "source": [
    "rows = []\n",
    "for _, r in tqdm(test_df.iterrows(), total=len(test_df), desc=\"Expanding test\"):\n",
    "    edgels = r['edgelist']\n",
    "    cents  = centralities(edgels)\n",
    "    for v, feats in cents.items():\n",
    "        row = {\n",
    "            'id':         r['id'],\n",
    "            'language':   r['language'],\n",
    "            'sentence':   r['sentence'],\n",
    "            'n':          r['n'],\n",
    "            'vertex':     v,\n",
    "            **feats\n",
    "        }\n",
    "        rows.append(row)"
   ]
  },
  {
   "cell_type": "code",
   "execution_count": 27,
   "id": "e73823ea-55d2-4cc9-8a4e-2c6ba8297046",
   "metadata": {},
   "outputs": [],
   "source": [
    "expanded_test = pd.DataFrame(rows)\n",
    "expanded_test.to_csv('../../data/expanded_test_all_feats.csv', index=False)"
   ]
  }
 ],
 "metadata": {
  "kernelspec": {
   "display_name": "Python ML-project(myenv)",
   "language": "python",
   "name": "myenv"
  },
  "language_info": {
   "codemirror_mode": {
    "name": "ipython",
    "version": 3
   },
   "file_extension": ".py",
   "mimetype": "text/x-python",
   "name": "python",
   "nbconvert_exporter": "python",
   "pygments_lexer": "ipython3",
   "version": "3.12.5"
  }
 },
 "nbformat": 4,
 "nbformat_minor": 5
}
