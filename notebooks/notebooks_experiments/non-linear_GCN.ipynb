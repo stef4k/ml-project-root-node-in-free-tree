{
 "cells": [
  {
   "cell_type": "markdown",
   "id": "8dba952f-7e68-4962-915b-950edf9aca4f",
   "metadata": {},
   "source": [
    "# Graph Convolutional Network for Root Prediction\n",
    "This notebook demonstrates a non-linear approach using a GCN to predict the root node in parsed dependency trees for one language."
   ]
  },
  {
   "cell_type": "code",
   "execution_count": 1,
   "id": "b72a7d64-b301-4135-bba6-ccd9aa7a44e1",
   "metadata": {},
   "outputs": [],
   "source": [
    "# pip install torch torchvision torchaudio --index-url https://download.pytorch.org/whl/cu121"
   ]
  },
  {
   "cell_type": "code",
   "execution_count": 2,
   "id": "ff498a2f-b1aa-4f64-9a5c-734e6661a84d",
   "metadata": {},
   "outputs": [],
   "source": [
    "# !pip install torch-geometric"
   ]
  },
  {
   "cell_type": "code",
   "execution_count": 68,
   "id": "3820bbcf-ec90-4319-97fa-44af0c8109be",
   "metadata": {},
   "outputs": [],
   "source": [
    "import pandas as pd\n",
    "import ast\n",
    "import torch\n",
    "import torch.nn.functional as F\n",
    "import random\n",
    "import itertools\n",
    "\n",
    "from torch_geometric.data import Data, DataLoader\n",
    "from torch_geometric.nn import GCNConv"
   ]
  },
  {
   "cell_type": "code",
   "execution_count": 69,
   "id": "b15d1397-2f6b-4d3a-b43a-e5e06e9f8e9d",
   "metadata": {},
   "outputs": [],
   "source": [
    "EXP_PATH     = '../../data/expanded_with_features_non-linear.csv'\n",
    "TRAIN_PATH   = '../../data/train.csv'\n",
    "TEST_FEATS   = '../../data/expanded_test_with_features_non-linear.csv'\n",
    "RAW_TEST     = '../../data/test.csv'\n",
    "CENT_COLS    = [\n",
    "    'degree','closeness','harmonic','betweeness','load','pagerank',\n",
    "    'eigenvector','katz','information','current_flow_betweeness',\n",
    "    'percolation','second_order','laplacian','pos_norm','max_branch_size','subtree_entropy'\n",
    "]\n",
    "BATCH_SIZE   = 32\n",
    "PATIENCE     = 10\n",
    "MAX_EPOCHS   = 100\n",
    "DEVICE       = torch.device('cuda' if torch.cuda.is_available() else 'cpu')"
   ]
  },
  {
   "cell_type": "code",
   "execution_count": 70,
   "id": "87bbba0b-9867-4a7d-b733-8159f288bb3e",
   "metadata": {},
   "outputs": [],
   "source": [
    "def build_graphs(df_sub):\n",
    "    graphs = []\n",
    "    for (_, sent), grp in df_sub.groupby(['language','sentence'], sort=False):\n",
    "        x = torch.tensor(grp[CENT_COLS].values, dtype=torch.float)\n",
    "        edges = grp.edgelist.iloc[0]\n",
    "        edge_index = torch.tensor(edges, dtype=torch.long).t().contiguous() - 1\n",
    "        y = torch.zeros(len(grp), dtype=torch.long)\n",
    "        y[grp.root.iloc[0] - 1] = 1\n",
    "        graphs.append(Data(x=x, edge_index=edge_index, y=y))\n",
    "    return graphs"
   ]
  },
  {
   "cell_type": "code",
   "execution_count": 71,
   "id": "5ecb8cab-8bc6-4273-ada0-71008e30c457",
   "metadata": {},
   "outputs": [],
   "source": [
    "def train_and_validate(train_graphs, val_graphs, hidden, dropout, lr, wd):\n",
    "    \"\"\"Returns (val_acc, model_trained_on_train_graphs)\"\"\"\n",
    "    train_loader = DataLoader(train_graphs, batch_size=BATCH_SIZE, shuffle=True)\n",
    "    val_loader   = DataLoader(val_graphs,   batch_size=BATCH_SIZE, shuffle=False)\n",
    "\n",
    "    class GCN(torch.nn.Module):\n",
    "        def __init__(self, in_feats):\n",
    "            super().__init__()\n",
    "            self.conv1 = GCNConv(in_feats, hidden)\n",
    "            self.conv2 = GCNConv(hidden, 2)\n",
    "            self.drop  = torch.nn.Dropout(dropout)\n",
    "        def forward(self, data):\n",
    "            x, edge = data.x.to(DEVICE), data.edge_index.to(DEVICE)\n",
    "            x = F.relu(self.conv1(x, edge))\n",
    "            x = self.drop(x)\n",
    "            x = self.conv2(x, edge)\n",
    "            return F.log_softmax(x, dim=1)\n",
    "\n",
    "    def root_acc(pred, data):\n",
    "        probs = pred.exp()[:,1]\n",
    "        correct, total = 0, 0\n",
    "        batch = data.batch if hasattr(data, 'batch') else torch.zeros(len(data.y), dtype=torch.long)\n",
    "        for i in range(data.num_graphs):\n",
    "            mask = (batch == i)\n",
    "            idx  = probs[mask].argmax()\n",
    "            correct += int(data.y.to(DEVICE)[mask][idx] == 1)\n",
    "            total   += 1\n",
    "        return correct / total\n",
    "\n",
    "    model = GCN(len(CENT_COLS)).to(DEVICE)\n",
    "    opt   = torch.optim.Adam(model.parameters(), lr=lr, weight_decay=wd)\n",
    "    sched = torch.optim.lr_scheduler.ReduceLROnPlateau(opt, 'max', patience=3, factor=0.5)\n",
    "\n",
    "    best_val, cnt = 0.0, 0\n",
    "    for ep in range(1, MAX_EPOCHS+1):\n",
    "        model.train()\n",
    "        for batch in train_loader:\n",
    "            batch = batch.to(DEVICE)\n",
    "            opt.zero_grad()\n",
    "            loss = F.nll_loss(model(batch), batch.y.to(DEVICE))\n",
    "            loss.backward(); opt.step()\n",
    "\n",
    "        model.eval()\n",
    "        val_acc = sum(root_acc(model(b), b) for b in val_loader) / len(val_loader)\n",
    "        sched.step(val_acc)\n",
    "\n",
    "        if val_acc > best_val + 1e-4:\n",
    "            best_val, cnt = val_acc, 0\n",
    "        else:\n",
    "            cnt += 1\n",
    "            if cnt >= PATIENCE:\n",
    "                break\n",
    "\n",
    "    return best_val, model"
   ]
  },
  {
   "cell_type": "code",
   "execution_count": 72,
   "id": "9cc209d3-73ec-408d-b350-23fd405b0f57",
   "metadata": {},
   "outputs": [],
   "source": [
    "param_grid = {\n",
    "    'hidden':  [32, 64],\n",
    "    'dropout': [0.3, 0.5],\n",
    "    'lr':      [1e-2, 5e-3],\n",
    "    'wd':      [1e-3, 1e-4],\n",
    "}"
   ]
  },
  {
   "cell_type": "code",
   "execution_count": 73,
   "id": "64066399-b8f6-4514-8ad1-3eb75c00a940",
   "metadata": {},
   "outputs": [],
   "source": [
    "def run_group(df_group, name):\n",
    "    print(f\"\\n>>> Group: {name}\")\n",
    "    graphs = build_graphs(df_group)\n",
    "    random.shuffle(graphs)\n",
    "\n",
    "    # 300 / 100 / 100\n",
    "    train_graphs = graphs[:300]\n",
    "    val_graphs   = graphs[300:400]\n",
    "    test_graphs  = graphs[400:500]\n",
    "\n",
    "    # hyper‐search\n",
    "    best_cfg, best_val = None, 0.0\n",
    "    for combo in itertools.product(*param_grid.values()):\n",
    "        cfg = dict(zip(param_grid.keys(), combo))\n",
    "        val_acc, _ = train_and_validate(train_graphs, val_graphs, **cfg)\n",
    "        if val_acc > best_val:\n",
    "            best_val, best_cfg = val_acc, cfg\n",
    "\n",
    "    print(f\"  best_val_acc = {best_val:.4f} with {best_cfg}\")\n",
    "\n",
    "    # retrain on train+val\n",
    "    combined = train_graphs + val_graphs\n",
    "    _, model = train_and_validate(combined, val_graphs, **best_cfg)\n",
    "\n",
    "    # evaluate on test\n",
    "    test_loader = DataLoader(test_graphs, batch_size=BATCH_SIZE, shuffle=False)\n",
    "    def root_acc_batch(pred, data):\n",
    "        probs = pred.exp()[:,1]\n",
    "        correct, total = 0, 0\n",
    "        batch = data.batch if hasattr(data, 'batch') else torch.zeros(len(data.y), dtype=torch.long)\n",
    "        for i in range(data.num_graphs):\n",
    "            mask = (batch == i)\n",
    "            idx  = probs[mask].argmax()\n",
    "            correct += int(data.y.to(DEVICE)[mask][idx] == 1)\n",
    "            total   += 1\n",
    "        return correct / total\n",
    "\n",
    "    test_acc = sum(root_acc_batch(model(b.to(DEVICE)), b.to(DEVICE))\n",
    "                   for b in test_loader) / len(test_loader)\n",
    "    print(f\"  test_acc     = {test_acc:.4f}\")\n",
    "\n",
    "    return model, best_val, test_acc"
   ]
  },
  {
   "cell_type": "code",
   "execution_count": 74,
   "id": "3eded33b-4a98-4112-bdd1-08fd0067c6b6",
   "metadata": {},
   "outputs": [
    {
     "name": "stdout",
     "output_type": "stream",
     "text": [
      "\n",
      ">>> Group: NON_JAPANESE\n"
     ]
    },
    {
     "name": "stderr",
     "output_type": "stream",
     "text": [
      "D:\\BDMA\\Machine_Learning\\ml-project-root-node-in-free-tree\\myenv\\Lib\\site-packages\\torch_geometric\\deprecation.py:26: UserWarning: 'data.DataLoader' is deprecated, use 'loader.DataLoader' instead\n",
      "  warnings.warn(out)\n"
     ]
    },
    {
     "name": "stdout",
     "output_type": "stream",
     "text": [
      "  best_val_acc = 0.3828 with {'hidden': 64, 'dropout': 0.3, 'lr': 0.01, 'wd': 0.0001}\n",
      "  test_acc     = 0.4141\n",
      "\n",
      ">>> Group: JAPANESE_ONLY\n"
     ]
    },
    {
     "name": "stderr",
     "output_type": "stream",
     "text": [
      "D:\\BDMA\\Machine_Learning\\ml-project-root-node-in-free-tree\\myenv\\Lib\\site-packages\\torch_geometric\\deprecation.py:26: UserWarning: 'data.DataLoader' is deprecated, use 'loader.DataLoader' instead\n",
      "  warnings.warn(out)\n"
     ]
    },
    {
     "name": "stdout",
     "output_type": "stream",
     "text": [
      "  best_val_acc = 0.3047 with {'hidden': 32, 'dropout': 0.5, 'lr': 0.005, 'wd': 0.001}\n",
      "  test_acc     = 0.1641\n",
      "\n",
      "Summary:\n",
      " NON_JP: val=0.3828  test=0.4141\n",
      " JAPANESE_ONLY: val=0.3047  test=0.1641\n",
      " AVG_TEST_ACC: 0.2891\n"
     ]
    }
   ],
   "source": [
    "# Load & merge\n",
    "exp   = pd.read_csv(EXP_PATH)\n",
    "train = pd.read_csv(TRAIN_PATH)\n",
    "train['edgelist'] = train['edgelist'].apply(ast.literal_eval)\n",
    "df    = exp.merge(train[['language','sentence','edgelist','root']],\n",
    "                  on=['language','sentence'])\n",
    "\n",
    "# 6) Run on both groups\n",
    "model_nonjp, val_nonjp, test_nonjp = run_group(df[df.language != 'Japanese'], \"NON_JAPANESE\")\n",
    "model_jp,    val_jp,    test_jp    = run_group(df[df.language == 'Japanese'],  \"JAPANESE_ONLY\")\n",
    "\n",
    "print(\"\\nSummary:\")\n",
    "print(f\" NON_JP: val={val_nonjp:.4f}  test={test_nonjp:.4f}\")\n",
    "print(f\" JAPANESE_ONLY: val={val_jp:.4f}  test={test_jp:.4f}\")\n",
    "print(f\" AVG_TEST_ACC: {(test_nonjp+test_jp)/2:.4f}\")"
   ]
  },
  {
   "cell_type": "markdown",
   "id": "c8ccdeca-f7a3-49da-9d68-a86b0e6443e0",
   "metadata": {},
   "source": [
    "## Test data\n",
    "Now let's use the best estimators found to predict the test data:"
   ]
  },
  {
   "cell_type": "code",
   "execution_count": 75,
   "id": "2fdf5833-7924-40a2-bc4f-76e3bf973894",
   "metadata": {},
   "outputs": [],
   "source": [
    "import pandas as pd, ast, torch\n",
    "from torch_geometric.data import Data"
   ]
  },
  {
   "cell_type": "code",
   "execution_count": 76,
   "id": "e18462e7-d670-43eb-887c-24adebb4cfc5",
   "metadata": {},
   "outputs": [],
   "source": [
    "test_feats = pd.read_csv(TEST_FEATS)\n",
    "raw_test   = pd.read_csv(RAW_TEST)\n",
    "raw_test['edgelist'] = raw_test['edgelist'].apply(ast.literal_eval)\n",
    "\n",
    "df_test = (\n",
    "    test_feats\n",
    "    .merge(raw_test[['id','language','sentence','edgelist']],\n",
    "           on=['id','language','sentence'])\n",
    ")"
   ]
  },
  {
   "cell_type": "code",
   "execution_count": 77,
   "id": "6341b2d3-bda9-460f-b965-3b6be6dd1208",
   "metadata": {},
   "outputs": [],
   "source": [
    "# build graphs with a “vertex” field\n",
    "test_graphs = []\n",
    "for tid, grp in df_test.groupby('id', sort=False):\n",
    "    x          = torch.tensor(grp[CENT_COLS].values, dtype=torch.float)\n",
    "    edge_index = torch.tensor(grp.edgelist.iloc[0], dtype=torch.long).t().contiguous() - 1\n",
    "    verts      = torch.tensor(grp['vertex'].values, dtype=torch.long)\n",
    "    lang       = grp.language.iloc[0]\n",
    "    data = Data(x=x, edge_index=edge_index, vertex=verts,\n",
    "                id=torch.tensor(tid), language=lang)\n",
    "    test_graphs.append(data)"
   ]
  },
  {
   "cell_type": "code",
   "execution_count": 78,
   "id": "ce0565f2-1e52-4449-be10-c4040a30859a",
   "metadata": {},
   "outputs": [
    {
     "name": "stdout",
     "output_type": "stream",
     "text": [
      "\n",
      "Wrote 10395 rows to ../../data/submission_GCN.csv\n"
     ]
    }
   ],
   "source": [
    "# predict\n",
    "results = []\n",
    "for data in test_graphs:\n",
    "    data = data.to(DEVICE)\n",
    "    model = model_jp if data.language=='Japanese' else model_nonjp\n",
    "    model.eval()\n",
    "    with torch.no_grad():\n",
    "        out   = model(data)       # [num_nodes, 2]\n",
    "        probs = out.exp()[:,1]    # P(root)\n",
    "    best_idx    = probs.argmax().item()\n",
    "    best_vertex = data.vertex[best_idx].item()\n",
    "    results.append({'id':int(data.id.item()), 'root':best_vertex})\n",
    "\n",
    "submission_gcn = pd.DataFrame(results)\n",
    "submission_gcn.to_csv('../../data/submission_GCN.csv', index=False)\n",
    "print(f\"\\nWrote {len(submission_gcn)} rows to ../../data/submission_GCN.csv\")"
   ]
  },
  {
   "cell_type": "code",
   "execution_count": 79,
   "id": "4c191308-64b7-4918-802a-31cd907de117",
   "metadata": {},
   "outputs": [
    {
     "name": "stdout",
     "output_type": "stream",
     "text": [
      "\n",
      "Agreement rate: 2.030% (211/10395)\n",
      "\n",
      "Examples of mismatches:\n",
      "   id  root_lin  root_gcn  match\n",
      "0   1         4        33  False\n",
      "1   2        17        34  False\n",
      "2   3         5         6  False\n",
      "3   4        15         9  False\n",
      "4   5         9        10  False\n"
     ]
    }
   ],
   "source": [
    "# compare with linear model\n",
    "sub_lin = pd.read_csv('../../data/labeled_test.csv')\n",
    "sub_gcn = submission_gcn\n",
    "\n",
    "cmp = sub_lin.merge(sub_gcn, on='id', suffixes=('_lin','_gcn'))\n",
    "cmp['match'] = cmp['root_lin'] == cmp['root_gcn']\n",
    "print(f\"\\nAgreement rate: {cmp['match'].mean():.3%} ({cmp['match'].sum()}/{len(cmp)})\")\n",
    "print(\"\\nExamples of mismatches:\")\n",
    "print(cmp.loc[~cmp['match']].head())"
   ]
  }
 ],
 "metadata": {
  "kernelspec": {
   "display_name": "Python ML-project(myenv)",
   "language": "python",
   "name": "myenv"
  },
  "language_info": {
   "codemirror_mode": {
    "name": "ipython",
    "version": 3
   },
   "file_extension": ".py",
   "mimetype": "text/x-python",
   "name": "python",
   "nbconvert_exporter": "python",
   "pygments_lexer": "ipython3",
   "version": "3.12.5"
  }
 },
 "nbformat": 4,
 "nbformat_minor": 5
}
