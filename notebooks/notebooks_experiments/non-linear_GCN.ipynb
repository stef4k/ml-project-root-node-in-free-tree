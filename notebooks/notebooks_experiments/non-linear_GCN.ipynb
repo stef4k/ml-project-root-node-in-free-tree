{
 "cells": [
  {
   "cell_type": "markdown",
   "id": "8dba952f-7e68-4962-915b-950edf9aca4f",
   "metadata": {},
   "source": [
    "# Graph Convolutional Network for Root Prediction\n",
    "This notebook demonstrates a non-linear approach using a GCN to predict the root node in parsed dependency trees for one language."
   ]
  },
  {
   "cell_type": "code",
   "execution_count": 233,
   "id": "b72a7d64-b301-4135-bba6-ccd9aa7a44e1",
   "metadata": {},
   "outputs": [],
   "source": [
    "# pip install torch torchvision torchaudio --index-url https://download.pytorch.org/whl/cu121"
   ]
  },
  {
   "cell_type": "code",
   "execution_count": 234,
   "id": "ff498a2f-b1aa-4f64-9a5c-734e6661a84d",
   "metadata": {},
   "outputs": [],
   "source": [
    "# !pip install torch-geometric"
   ]
  },
  {
   "cell_type": "code",
   "execution_count": 290,
   "id": "3820bbcf-ec90-4319-97fa-44af0c8109be",
   "metadata": {},
   "outputs": [],
   "source": [
    "import pandas as pd\n",
    "import ast\n",
    "import torch\n",
    "import torch.nn.functional as F\n",
    "from torch_geometric.data import Data, DataLoader\n",
    "from torch_geometric.nn import GCNConv\n",
    "import random\n",
    "import itertools"
   ]
  },
  {
   "cell_type": "code",
   "execution_count": 291,
   "id": "b15d1397-2f6b-4d3a-b43a-e5e06e9f8e9d",
   "metadata": {},
   "outputs": [],
   "source": [
    "# CONFIG\n",
    "EXP_PATH = '../../data/expanded_with_features_non-linear.csv'\n",
    "TRAIN_PATH = '../../data/train.csv'\n",
    "CENT_COLS = [\n",
    "    'degree','closeness','harmonic','betweeness','load','pagerank',\n",
    "    'eigenvector','katz','information','current_flow_betweeness',\n",
    "    'percolation','second_order','laplacian',\n",
    "]\n",
    "VALID_SPLIT = 0.2\n",
    "BATCH_SIZE = 32\n",
    "PATIENCE = 5\n",
    "MAX_EPOCHS = 50\n",
    "DEVICE = torch.device('cuda' if torch.cuda.is_available() else 'cpu')"
   ]
  },
  {
   "cell_type": "code",
   "execution_count": 292,
   "id": "87bbba0b-9867-4a7d-b733-8159f288bb3e",
   "metadata": {},
   "outputs": [],
   "source": [
    "# BUILD GRAPHS\n",
    "def build_graphs(df_sub):\n",
    "    graphs = []\n",
    "    for (_, sent), grp in df_sub.groupby(['language','sentence'], sort=False):\n",
    "        x = torch.tensor(grp[CENT_COLS].values, dtype=torch.float)\n",
    "        edges = grp.edgelist.iloc[0]\n",
    "        edge_index = torch.tensor(edges, dtype=torch.long).t().contiguous() - 1\n",
    "        y = torch.zeros(len(grp), dtype=torch.long)\n",
    "        y[grp.root.iloc[0] - 1] = 1\n",
    "        graphs.append(Data(x=x, edge_index=edge_index, y=y))\n",
    "    return graphs"
   ]
  },
  {
   "cell_type": "code",
   "execution_count": 293,
   "id": "5ecb8cab-8bc6-4273-ada0-71008e30c457",
   "metadata": {},
   "outputs": [],
   "source": [
    "# SINGLE TRAIN/EVALUATE\n",
    "def eval_config(graphs, hidden, dropout, lr, wd):\n",
    "    # split\n",
    "    random.shuffle(graphs)\n",
    "    cut = int(len(graphs)*(1-VALID_SPLIT))\n",
    "    train_loader = DataLoader(graphs[:cut], batch_size=BATCH_SIZE, shuffle=True)\n",
    "    val_loader   = DataLoader(graphs[cut:], batch_size=BATCH_SIZE, shuffle=False)\n",
    "\n",
    "    # model def\n",
    "    class GCN(torch.nn.Module):\n",
    "        def __init__(self, in_feats):\n",
    "            super().__init__()\n",
    "            self.conv1 = GCNConv(in_feats, hidden)\n",
    "            self.conv2 = GCNConv(hidden, 2)\n",
    "            self.drop  = torch.nn.Dropout(dropout)\n",
    "        def forward(self, data):\n",
    "            x, edge = data.x.to(DEVICE), data.edge_index.to(DEVICE)\n",
    "            x = F.relu(self.conv1(x, edge))\n",
    "            x = self.drop(x)\n",
    "            x = self.conv2(x, edge)\n",
    "            return F.log_softmax(x, dim=1)\n",
    "    def root_acc(pred, data):\n",
    "        probs = pred.exp()[:,1]\n",
    "        correct, total = 0, 0\n",
    "        batch = data.batch if hasattr(data, 'batch') else torch.zeros(len(data.y), dtype=torch.long)\n",
    "        for i in range(data.num_graphs):\n",
    "            mask = (batch == i)\n",
    "            idx = probs[mask].argmax()\n",
    "            correct += int(data.y.to(DEVICE)[mask][idx] == 1)\n",
    "            total += 1\n",
    "        return correct / total\n",
    "\n",
    "    model = GCN(len(CENT_COLS)).to(DEVICE)\n",
    "    opt   = torch.optim.Adam(model.parameters(), lr=lr, weight_decay=wd)\n",
    "    sched = torch.optim.lr_scheduler.ReduceLROnPlateau(opt, 'max', patience=3, factor=0.5)\n",
    "\n",
    "    best_val, cnt = 0, 0\n",
    "    for ep in range(1, MAX_EPOCHS+1):\n",
    "        model.train()\n",
    "        for batch in train_loader:\n",
    "            batch = batch.to(DEVICE)\n",
    "            opt.zero_grad()\n",
    "            loss = F.nll_loss(model(batch), batch.y.to(DEVICE))\n",
    "            loss.backward(); opt.step()\n",
    "        model.eval()\n",
    "        val_acc = sum(root_acc(model(b), b) for b in val_loader)/len(val_loader)\n",
    "        sched.step(val_acc)\n",
    "        if val_acc > best_val + 1e-4:\n",
    "            best_val, cnt = val_acc, 0\n",
    "        else:\n",
    "            cnt += 1\n",
    "        if cnt >= PATIENCE:\n",
    "            break\n",
    "    return best_val, model"
   ]
  },
  {
   "cell_type": "code",
   "execution_count": 294,
   "id": "9cc209d3-73ec-408d-b350-23fd405b0f57",
   "metadata": {},
   "outputs": [],
   "source": [
    "param_grid = {\n",
    "    'hidden':    [32, 64],\n",
    "    'dropout':   [0.3, 0.5],\n",
    "    'lr':        [1e-2, 5e-3],\n",
    "    'wd':        [1e-3, 1e-4],\n",
    "}"
   ]
  },
  {
   "cell_type": "code",
   "execution_count": 295,
   "id": "64066399-b8f6-4514-8ad1-3eb75c00a940",
   "metadata": {},
   "outputs": [],
   "source": [
    "# LOAD DATA\n",
    "exp   = pd.read_csv(EXP_PATH)\n",
    "train = pd.read_csv(TRAIN_PATH)\n",
    "train['edgelist'] = train['edgelist'].apply(ast.literal_eval)\n",
    "df = exp.merge(train[['language','sentence','edgelist','root']], on=['language','sentence'])"
   ]
  },
  {
   "cell_type": "code",
   "execution_count": 296,
   "id": "3eded33b-4a98-4112-bdd1-08fd0067c6b6",
   "metadata": {},
   "outputs": [],
   "source": [
    "def tune_language(df_lang, lang_name):\n",
    "    print(f\"\\n>> Tuning for {lang_name}\")\n",
    "    graphs = build_graphs(df_lang)\n",
    "    best_acc, best_cfg, best_model = 0, None, None\n",
    "    for cfg in itertools.product(*param_grid.values()):\n",
    "        cfg_dict = dict(zip(param_grid.keys(), cfg))\n",
    "        acc, _ = eval_config(graphs, **cfg_dict)\n",
    "        if acc > best_acc:\n",
    "            best_acc, best_cfg = acc, cfg_dict\n",
    "    print(f\"{lang_name} best val-acc={best_acc:.4f} with {best_cfg}\")\n",
    "    # retrain best\n",
    "    _, best_model = eval_config(graphs, **best_cfg)\n",
    "    return best_model, best_acc"
   ]
  },
  {
   "cell_type": "code",
   "execution_count": 298,
   "id": "ef2819f8-d9e1-4db4-897f-1212d34c407c",
   "metadata": {},
   "outputs": [
    {
     "name": "stdout",
     "output_type": "stream",
     "text": [
      "\n",
      ">> Tuning for NON_JAPANESE\n"
     ]
    },
    {
     "name": "stderr",
     "output_type": "stream",
     "text": [
      "D:\\BDMA\\Machine_Learning\\ml-project-root-node-in-free-tree\\myenv\\Lib\\site-packages\\torch_geometric\\deprecation.py:26: UserWarning: 'data.DataLoader' is deprecated, use 'loader.DataLoader' instead\n",
      "  warnings.warn(out)\n"
     ]
    },
    {
     "name": "stdout",
     "output_type": "stream",
     "text": [
      "NON_JAPANESE best val-acc=0.4563 with {'hidden': 32, 'dropout': 0.5, 'lr': 0.005, 'wd': 0.0001}\n"
     ]
    }
   ],
   "source": [
    "# TUNE NON-JAPANESE\n",
    "df_nonjp      = df[df.language != 'Japanese']\n",
    "model_nonjp, a_nonjp = tune_language(df_nonjp, \"NON_JAPANESE\")"
   ]
  },
  {
   "cell_type": "code",
   "execution_count": 299,
   "id": "64341c11-308c-43bd-b13e-05fb2b1770f0",
   "metadata": {},
   "outputs": [
    {
     "name": "stdout",
     "output_type": "stream",
     "text": [
      "\n",
      ">> Tuning for JAPANESE_ONLY\n"
     ]
    },
    {
     "name": "stderr",
     "output_type": "stream",
     "text": [
      "D:\\BDMA\\Machine_Learning\\ml-project-root-node-in-free-tree\\myenv\\Lib\\site-packages\\torch_geometric\\deprecation.py:26: UserWarning: 'data.DataLoader' is deprecated, use 'loader.DataLoader' instead\n",
      "  warnings.warn(out)\n"
     ]
    },
    {
     "name": "stdout",
     "output_type": "stream",
     "text": [
      "JAPANESE_ONLY best val-acc=0.4062 with {'hidden': 64, 'dropout': 0.3, 'lr': 0.005, 'wd': 0.0001}\n"
     ]
    }
   ],
   "source": [
    "# TUNE JAPANESE\n",
    "df_jp         = df[df.language == 'Japanese']\n",
    "model_jp, a_jp = tune_language(df_jp, \"JAPANESE_ONLY\")"
   ]
  },
  {
   "cell_type": "code",
   "execution_count": 300,
   "id": "4acb6f21-66fd-4f31-8c8d-d9092c467887",
   "metadata": {},
   "outputs": [
    {
     "name": "stdout",
     "output_type": "stream",
     "text": [
      "\n",
      "Non-JP acc: 0.4563  JP acc: 0.4062  AVG: 0.4313\n"
     ]
    }
   ],
   "source": [
    "# AVERAGE\n",
    "print(f\"\\nNon-JP acc: {a_nonjp:.4f}  JP acc: {a_jp:.4f}  AVG: {(a_nonjp+a_jp)/2:.4f}\")"
   ]
  },
  {
   "cell_type": "markdown",
   "id": "c8ccdeca-f7a3-49da-9d68-a86b0e6443e0",
   "metadata": {},
   "source": [
    "## Test data\n",
    "Now let's use the best estimators found to predict the test data:"
   ]
  },
  {
   "cell_type": "code",
   "execution_count": 308,
   "id": "2fdf5833-7924-40a2-bc4f-76e3bf973894",
   "metadata": {},
   "outputs": [],
   "source": [
    "import pandas as pd, ast, torch\n",
    "from torch_geometric.data import Data"
   ]
  },
  {
   "cell_type": "code",
   "execution_count": 309,
   "id": "e18462e7-d670-43eb-887c-24adebb4cfc5",
   "metadata": {},
   "outputs": [],
   "source": [
    "# Load normalized features + raw edgelists\n",
    "test_feats = pd.read_csv('../../data/normalized_expanded_test.csv')\n",
    "raw_test  = pd.read_csv('../../data/test.csv')\n",
    "raw_test['edgelist'] = raw_test['edgelist'].apply(ast.literal_eval)"
   ]
  },
  {
   "cell_type": "code",
   "execution_count": 310,
   "id": "6341b2d3-bda9-460f-b965-3b6be6dd1208",
   "metadata": {},
   "outputs": [],
   "source": [
    "# join them on (language, sentence, id)\n",
    "df_test = (\n",
    "    test_feats\n",
    "    .merge(raw_test[['id','language','sentence','edgelist']], on=['id','language','sentence'])\n",
    ")"
   ]
  },
  {
   "cell_type": "code",
   "execution_count": 311,
   "id": "ce0565f2-1e52-4449-be10-c4040a30859a",
   "metadata": {},
   "outputs": [],
   "source": [
    "# Build a list of Data() graphs with a vertex‐ID field\n",
    "test_graphs = []\n",
    "for tid, grp in df_test.groupby('id', sort=False):\n",
    "    x = torch.tensor(grp[CENT_COLS].values, dtype=torch.float)\n",
    "    edge_index = torch.tensor(grp.edgelist.iloc[0], dtype=torch.long).t().contiguous() - 1\n",
    "    verts = torch.tensor(grp['vertex'].values, dtype=torch.long)\n",
    "    lang  = grp.language.iloc[0]\n",
    "    data = Data(x=x, edge_index=edge_index, vertex=verts, id=torch.tensor(tid), language=lang)\n",
    "    test_graphs.append(data)"
   ]
  },
  {
   "cell_type": "code",
   "execution_count": 312,
   "id": "4c191308-64b7-4918-802a-31cd907de117",
   "metadata": {},
   "outputs": [],
   "source": [
    "# Predict with the right model, pick argmax of root‐probs\n",
    "results = []\n",
    "for data in test_graphs:\n",
    "    data = data.to(DEVICE)\n",
    "    model = model_jp if data.language == 'Japanese' else model_all\n",
    "    model.eval()\n",
    "    with torch.no_grad():\n",
    "        out = model(data)               # log‐probs [num_nodes, 2]\n",
    "        probs = out.exp()[:,1]          # P(root)\n",
    "    best_idx    = probs.argmax().item()\n",
    "    best_vertex = data.vertex[best_idx].item()\n",
    "    results.append({'id': int(data.id.item()), 'root': best_vertex})"
   ]
  },
  {
   "cell_type": "code",
   "execution_count": 316,
   "id": "bcd516e8-c77a-49ee-aacd-9408ff33aaa4",
   "metadata": {},
   "outputs": [
    {
     "name": "stdout",
     "output_type": "stream",
     "text": [
      "Wrote 10395 rows to ../../data/submission_NL.csv\n"
     ]
    }
   ],
   "source": [
    "submission = pd.DataFrame(results)\n",
    "submission.to_csv('../../data/submission_NL.csv', index=False)\n",
    "print(f\"Wrote {len(submission)} rows to ../../data/submission_NL.csv\")"
   ]
  },
  {
   "cell_type": "code",
   "execution_count": 318,
   "id": "d826cb68-ab65-4d11-b5a2-ce06b6af17ce",
   "metadata": {},
   "outputs": [],
   "source": [
    "sub_gnn = pd.read_csv('../../data/submission.csv')\n",
    "sub_nl  = pd.read_csv('../../data/submission_NL.csv')"
   ]
  },
  {
   "cell_type": "code",
   "execution_count": 319,
   "id": "4e32a914-c0dd-4e7e-8f74-94dcf4967792",
   "metadata": {},
   "outputs": [
    {
     "name": "stdout",
     "output_type": "stream",
     "text": [
      "Agreement rate: 9.649% (1003/10395)\n",
      "\n",
      "Examples of mismatches:\n",
      "   id  root_gnn  root_nl  match\n",
      "0   1         2       17  False\n",
      "1   2        17       11  False\n",
      "2   3        15       34  False\n",
      "5   6        15       19  False\n",
      "6   7         2        7  False\n"
     ]
    }
   ],
   "source": [
    "# join on id\n",
    "cmp = sub_gnn.merge(sub_nl, on='id', suffixes=('_gnn', '_nl'))\n",
    "cmp['match'] = cmp['root_gnn'] == cmp['root_nl']\n",
    "\n",
    "# summary\n",
    "print(f\"Agreement rate: {cmp['match'].mean():.3%} ({cmp['match'].sum()}/{len(cmp)})\")\n",
    "# show a few disagreements\n",
    "print(\"\\nExamples of mismatches:\")\n",
    "print(cmp.loc[~cmp['match']].head())"
   ]
  },
  {
   "cell_type": "code",
   "execution_count": null,
   "id": "6041da34-d354-4a06-8554-92539b3a50bb",
   "metadata": {},
   "outputs": [],
   "source": []
  }
 ],
 "metadata": {
  "kernelspec": {
   "display_name": "Python ML-project(myenv)",
   "language": "python",
   "name": "myenv"
  },
  "language_info": {
   "codemirror_mode": {
    "name": "ipython",
    "version": 3
   },
   "file_extension": ".py",
   "mimetype": "text/x-python",
   "name": "python",
   "nbconvert_exporter": "python",
   "pygments_lexer": "ipython3",
   "version": "3.12.5"
  }
 },
 "nbformat": 4,
 "nbformat_minor": 5
}
